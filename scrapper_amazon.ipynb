{
 "cells": [
  {
   "cell_type": "code",
   "execution_count": 29,
   "metadata": {},
   "outputs": [],
   "source": [
    "from bs4 import BeautifulSoup \n",
    "import pandas as pd\n",
    "import requests\n",
    "import numpy as np\n",
    "\n",
    "url= 'https://www.amazon.in/s?i=stripbooks&rh=n%3A1318158031&fs=true&page=3&qid=1685331344&ref=sr_pg_3'\n",
    "\n",
    "response= requests.get(url)\n",
    "response.status_code\n",
    "page_contents= response.text\n",
    "\n",
    "from bs4 import BeautifulSoup\n",
    "\n",
    "doc = BeautifulSoup(page_contents, 'html.parser')"
   ]
  },
  {
   "cell_type": "code",
   "execution_count": 17,
   "metadata": {},
   "outputs": [],
   "source": [
    "def get_genre():\n",
    "    genre = 'Action & Adventure'\n",
    "    return genre"
   ]
  },
  {
   "cell_type": "code",
   "execution_count": 45,
   "metadata": {},
   "outputs": [
    {
     "name": "stdout",
     "output_type": "stream",
     "text": [
      "None\n",
      "None\n"
     ]
    },
    {
     "ename": "TypeError",
     "evalue": "slice indices must be integers or None or have an __index__ method",
     "output_type": "error",
     "traceback": [
      "\u001b[1;31m---------------------------------------------------------------------------\u001b[0m",
      "\u001b[1;31mTypeError\u001b[0m                                 Traceback (most recent call last)",
      "Cell \u001b[1;32mIn[45], line 12\u001b[0m\n\u001b[0;32m      9\u001b[0m             titles\u001b[39m.\u001b[39mappend(titles_element\u001b[39m.\u001b[39mtext)\n\u001b[0;32m     10\u001b[0m     \u001b[39mreturn\u001b[39;00m titles\n\u001b[1;32m---> 12\u001b[0m \u001b[39mprint\u001b[39m(get_title(title_tags))\n",
      "Cell \u001b[1;32mIn[45], line 5\u001b[0m, in \u001b[0;36mget_title\u001b[1;34m(title_tags)\u001b[0m\n\u001b[0;32m      3\u001b[0m titles\u001b[39m=\u001b[39m[]\n\u001b[0;32m      4\u001b[0m \u001b[39mfor\u001b[39;00m t \u001b[39min\u001b[39;00m title_tags:\n\u001b[1;32m----> 5\u001b[0m     titles_element\u001b[39m=\u001b[39mtitle_tags\u001b[39m.\u001b[39mfind(t\u001b[39m.\u001b[39;49mfind(\u001b[39m'\u001b[39;49m\u001b[39mspan\u001b[39;49m\u001b[39m'\u001b[39;49m, {\u001b[39m'\u001b[39;49m\u001b[39mclass\u001b[39;49m\u001b[39m'\u001b[39;49m: \u001b[39m'\u001b[39;49m\u001b[39ma-size-medium a-color-base a-text-normal\u001b[39;49m\u001b[39m'\u001b[39;49m}))\n\u001b[0;32m      6\u001b[0m     \u001b[39mprint\u001b[39m(titles_element)\n\u001b[0;32m      7\u001b[0m     \u001b[39mprint\u001b[39m(titles_element)\n",
      "\u001b[1;31mTypeError\u001b[0m: slice indices must be integers or None or have an __index__ method"
     ]
    }
   ],
   "source": [
    "title_tags = doc.find('h2',{'class':'a-size-mini a-spacing-none a-color-base s-line-clamp-2'}) \n",
    "def get_title(title_tags):\n",
    "    titles=[]\n",
    "    for t in title_tags:\n",
    "        titles_element=title_tags.find(t.find('span', {'class':'a-size-medium a-color-base a-text-normal'}))\n",
    "        print(titles_element)\n",
    "        print(titles_element)\n",
    "        if titles_element:\n",
    "            titles.append(titles_element.text)\n",
    "    return titles\n",
    "\n",
    "print(get_title(title_tags))"
   ]
  },
  {
   "cell_type": "code",
   "execution_count": 46,
   "metadata": {},
   "outputs": [
    {
     "name": "stdout",
     "output_type": "stream",
     "text": [
      "['வைகறையின் முகை அலரானவளே! (Tamil Edition)']\n"
     ]
    }
   ],
   "source": [
    "def get_title(title_tags):\n",
    "    titles = []\n",
    "    title_element = title_tags.find('span', {'class': 'a-size-medium a-color-base a-text-normal'})\n",
    "    if title_element:\n",
    "        titles.append(title_element.text)\n",
    "    return titles\n",
    "\n",
    "title_tags = doc.find('h2', {'class': 'a-size-mini a-spacing-none a-color-base s-line-clamp-2'})\n",
    "print(get_title(title_tags))\n"
   ]
  },
  {
   "cell_type": "code",
   "execution_count": 2,
   "metadata": {},
   "outputs": [
    {
     "ename": "SyntaxError",
     "evalue": "incomplete input (3048907160.py, line 1)",
     "output_type": "error",
     "traceback": [
      "\u001b[1;36m  Cell \u001b[1;32mIn[2], line 1\u001b[1;36m\u001b[0m\n\u001b[1;33m    def scrape(page_number):\u001b[0m\n\u001b[1;37m                            ^\u001b[0m\n\u001b[1;31mSyntaxError\u001b[0m\u001b[1;31m:\u001b[0m incomplete input\n"
     ]
    }
   ],
   "source": [
    "def scrape(page_number):\n",
    "    page_number += 1\n",
    "    url = 'https://www.amazon.in/s?i=stripbooks&rh=n%253A1318158031&fs=true&page=3&qid=1685331344&ref=sr_pg_' + str(page_number)\n",
    "    doc = BeautifulSoup(page_contents,'html.parser')\n",
    "    title=get_book_title(book_title_tags)\n",
    "    author=get_all_authors(author_name_tags)\n",
    "    genre=get_genre()\n",
    "    stars=get_all_stars(rating_tags)\n",
    "    image=get_all_images(image_tags)\n",
    "    title_url=get_all_url(book_url_tag)\n",
    "    return title,author,genre,stars,image,title_url"
   ]
  },
  {
   "cell_type": "code",
   "execution_count": null,
   "metadata": {},
   "outputs": [],
   "source": [
    "all_titles,all_authors,all_genre,all_stars,all_images,all_urls=[],[],[],[],[],[]\n",
    "for page_number in range(1,15):\n",
    "    title,author,genre,stars,image,title_url= scrape(page_number)\n",
    "    all_titles += title\n",
    "    all_authors += author\n",
    "    all_genre += genre\n",
    "    all_stars += stars\n",
    "    all_images += image\n",
    "    all_urls +=title_url\n"
   ]
  },
  {
   "cell_type": "code",
   "execution_count": null,
   "metadata": {},
   "outputs": [],
   "source": [
    "import pandas as pd\n",
    "\n",
    "all_books={\n",
    "             'Book Title': all_titles,\n",
    "             'Author Name':all_authors,\n",
    "             'Genre':all_genre,\n",
    "             'Stars': all_stars ,\n",
    "             'Image': all_images,\n",
    "             'URL':all_urls}\n",
    "\n",
    "dataframe = pd.DataFrame.from_dict(all_books, orient='index')\n",
    "dataframe = dataframe.transpose()\n",
    "\n",
    "dataframe.to_csv('books.csv',index=None)"
   ]
  },
  {
   "cell_type": "code",
   "execution_count": null,
   "metadata": {},
   "outputs": [],
   "source": [
    "from ur_gadget import *\n",
    "import pandas as pd\n",
    "from pandas import json_normalize\n",
    "import requests\n",
    "# import time\n",
    "# import json\n",
    "# import io\n",
    "\n",
    "# Shopee API request setting\n",
    "def api_request(url, payload={}, method='GET'):\n",
    "  \"\"\"Default setting to request data from Shopee.vn\"\"\"\n",
    "  headers = {\n",
    "    'accept-language': 'en-US,en;q=0.9,vi-VN;q=0.8,vi;q=0.7',\n",
    "    'sec-ch-ua': '\"Google Chrome\";v=\"107\", \"Chromium\";v=\"107\", \"Not=A?Brand\";v=\"24\"',\n",
    "    'sec-ch-ua-platform': '\"macOS\"',\n",
    "    'user-agent': 'Mozilla/5.0 (Macintosh; Intel Mac OS X 10_15_7) AppleWebKit/537.36 (KHTML, like Gecko) Chrome/107.0.0.0 Safari/537.36',\n",
    "    'x-api-source': 'pc',\n",
    "    'x-requested-with': 'XMLHttpRequest',\n",
    "    'x-shopee-language': 'vi'\n",
    "  }\n",
    "  response = requests.request(f\"{method}\", url, headers=headers, data=payload)\n",
    "  return response.json()\n",
    "\n",
    "# Section name: Danh mục sản phẩm\n",
    "def category_list(url='https://shopee.vn/api/v4/pages/get_category_tree'):\n",
    "  \"\"\"Extract the category list\"\"\"\n",
    "  response = api_request(url)\n",
    "  df = json_normalize(response['data']['category_list'])\n",
    "  return df\n",
    "\n",
    "# # Section name: Home > Tìm kiếm hàng đầu - Stop working due to not login\n",
    "# def top_product_key (url='https://shopee.vn/api/v4/recommend/recommend?bundle=top_products_homepage&limit=50'):\n",
    "#   \"\"\"Return a list of top product keys which can be used to extract item details further\"\"\"\n",
    "#   response = api_request(url)\n",
    "#   # update_time = response['data']['update_time']\n",
    "#   ls_count =len(response['data']['sections'])\n",
    "#   total_item = response['data']['sections'][0]['total']\n",
    "#   key_df = json_normalize(response['data']['sections'][0]['index']).drop(columns=['data_type', 'filtered', 'filtered_dunit'])\n",
    "#   return key_df\n",
    "\n",
    "# Shopee Mall index: https://shopee.vn/mall/brands\n",
    "def mall_index_all(url='https://shopee.vn/api/v4/official_shop/get_shops_by_category?need_zhuyin=0&category_id=-1'):\n",
    "  response = api_request(url)['data']['brands']\n",
    "  ls_len = len(response)\n",
    "  for i in range(ls_len):\n",
    "    if i == 0:\n",
    "      df = json_normalize(response[i]['brand_ids'])\n",
    "      df['index'] = response[i]['index']\n",
    "    else:\n",
    "      df1 = json_normalize(response[i]['brand_ids'])\n",
    "      df1['index'] = response[i]['index']\n",
    "      df = pd.concat([df, df1])\n",
    "  df['created_time'] = pd.to_datetime(df['ctime'],unit='s').dt.date\n",
    "  df['logo'] = 'https://cf.shopee.vn/file/' + df['logo']\n",
    "  df['created_year'] = pd.to_datetime(df['created_time']).dt.year\n",
    "  df['created_month'] = pd.to_datetime(df['created_time']).dt.month\n",
    "  df['created_day'] = pd.to_datetime(df['created_time']).dt.day\n",
    "  df = df[['index', 'username', 'brand_name', 'shopid', 'logo', 'created_time', 'created_year', 'created_month', 'created_day']]\n",
    "  return df\n",
    "\n",
    "# Get Shop Info by Shop ID\n",
    "def get_shop_info(shop_id):\n",
    "  response = api_request(f\"https://shopee.vn/api/v4/product/get_shop_info?shopid={str(shop_id)}\")\n",
    "  df = json_normalize(response['data'])\n",
    "  df['created_time'] = pd.to_datetime(df['ctime'], unit='s').dt.date\n",
    "  df = df[['shopid', 'name', 'shop_location', 'item_count', 'rating_star', 'response_rate',\n",
    "          'response_time', 'follower_count', 'rating_bad', 'rating_good',\n",
    "          'rating_normal', 'is_shopee_verified','is_preferred_plus_seller', 'is_official_shop', 'created_time']]\n",
    "  return df\n",
    "\n"
   ]
  }
 ],
 "metadata": {
  "kernelspec": {
   "display_name": "Python 3",
   "language": "python",
   "name": "python3"
  },
  "language_info": {
   "codemirror_mode": {
    "name": "ipython",
    "version": 3
   },
   "file_extension": ".py",
   "mimetype": "text/x-python",
   "name": "python",
   "nbconvert_exporter": "python",
   "pygments_lexer": "ipython3",
   "version": "3.11.3"
  },
  "orig_nbformat": 4
 },
 "nbformat": 4,
 "nbformat_minor": 2
}
